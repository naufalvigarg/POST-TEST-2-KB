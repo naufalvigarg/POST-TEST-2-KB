{
 "cells": [
  {
   "cell_type": "code",
   "execution_count": 1,
   "id": "bd814175",
   "metadata": {},
   "outputs": [],
   "source": [
    "import pandas as pd"
   ]
  },
  {
   "cell_type": "markdown",
   "id": "1578be65",
   "metadata": {},
   "source": [
    "# Membaca Dataset"
   ]
  },
  {
   "cell_type": "code",
   "execution_count": 2,
   "id": "1e1f2131",
   "metadata": {},
   "outputs": [],
   "source": [
    "df = pd.read_csv(\"Top 2000 Universities of the World - Sheet1.csv\")"
   ]
  },
  {
   "cell_type": "markdown",
   "id": "7e8974e1",
   "metadata": {},
   "source": [
    "##  Dictionary"
   ]
  },
  {
   "cell_type": "code",
   "execution_count": 3,
   "id": "1dec7fb3",
   "metadata": {},
   "outputs": [],
   "source": [
    "info = {\n",
    "    \"Record\" : df.shape[0],\n",
    "    \"Attribute\" : df.columns.values,\n",
    "    \"Jum Attribute Objek\" : df.select_dtypes([\"object\"]).columns,\n",
    "    \"Jum Attribute Angka\" : df.select_dtypes([\"float64\",\"int64\"]).columns,\n",
    "    \"Jum Attribute Null\" : df.loc[:, df.isnull().any()].columns,\n",
    "}"
   ]
  },
  {
   "cell_type": "markdown",
   "id": "5c370173",
   "metadata": {},
   "source": [
    "### Jumlah record,Nama attribute,Jumlah attribute dengan tipe objek,Jumlah attribute dengan tipe angka, Jumlah attribute yang memiliki nilai null.\n"
   ]
  },
  {
   "cell_type": "code",
   "execution_count": 4,
   "id": "0df551f0",
   "metadata": {},
   "outputs": [
    {
     "name": "stdout",
     "output_type": "stream",
     "text": [
      " Record =  2000\n",
      "\n",
      "Attribute =  ['World Rank' 'Institution' 'Country' 'National Rank'\n",
      " 'Quality of Education Rank' 'Alumni Employment Rank'\n",
      " 'Quality of Faculty Rank' 'Research Performance Rank' 'Score']\n",
      "\n",
      "Jumlah Attribute Objek =  6\n",
      "\n",
      "Jumlah Attribute Angka =  3\n",
      "\n",
      "Jumlah Attribute Null =  0\n"
     ]
    }
   ],
   "source": [
    "print(\" Record = \", info['Record'])\n",
    "print(\"\\nAttribute = \", info['Attribute'])\n",
    "print(\"\\nJumlah Attribute Objek = \", len(info['Jum Attribute Objek']))\n",
    "print(\"\\nJumlah Attribute Angka = \", len(info['Jum Attribute Angka']))\n",
    "print(\"\\nJumlah Attribute Null = \", len(info['Jum Attribute Null']))"
   ]
  },
  {
   "cell_type": "markdown",
   "id": "e03d4117",
   "metadata": {},
   "source": [
    "## Rata-rata, Standar deviasi, Nilai minimum, Nilai maksimum, Q1, Q2, dan Q3"
   ]
  },
  {
   "cell_type": "code",
   "execution_count": 5,
   "id": "0a09bbd2",
   "metadata": {},
   "outputs": [
    {
     "data": {
      "text/html": [
       "<div>\n",
       "<style scoped>\n",
       "    .dataframe tbody tr th:only-of-type {\n",
       "        vertical-align: middle;\n",
       "    }\n",
       "\n",
       "    .dataframe tbody tr th {\n",
       "        vertical-align: top;\n",
       "    }\n",
       "\n",
       "    .dataframe thead th {\n",
       "        text-align: right;\n",
       "    }\n",
       "</style>\n",
       "<table border=\"1\" class=\"dataframe\">\n",
       "  <thead>\n",
       "    <tr style=\"text-align: right;\">\n",
       "      <th></th>\n",
       "      <th>World Rank</th>\n",
       "      <th>National Rank</th>\n",
       "      <th>Score</th>\n",
       "    </tr>\n",
       "  </thead>\n",
       "  <tbody>\n",
       "    <tr>\n",
       "      <th>count</th>\n",
       "      <td>2000.000000</td>\n",
       "      <td>2000.000000</td>\n",
       "      <td>2000.000000</td>\n",
       "    </tr>\n",
       "    <tr>\n",
       "      <th>mean</th>\n",
       "      <td>1000.500000</td>\n",
       "      <td>67.523000</td>\n",
       "      <td>71.586450</td>\n",
       "    </tr>\n",
       "    <tr>\n",
       "      <th>std</th>\n",
       "      <td>577.494589</td>\n",
       "      <td>83.128615</td>\n",
       "      <td>5.079795</td>\n",
       "    </tr>\n",
       "    <tr>\n",
       "      <th>min</th>\n",
       "      <td>1.000000</td>\n",
       "      <td>1.000000</td>\n",
       "      <td>65.700000</td>\n",
       "    </tr>\n",
       "    <tr>\n",
       "      <th>25%</th>\n",
       "      <td>500.750000</td>\n",
       "      <td>10.000000</td>\n",
       "      <td>67.700000</td>\n",
       "    </tr>\n",
       "    <tr>\n",
       "      <th>50%</th>\n",
       "      <td>1000.500000</td>\n",
       "      <td>33.000000</td>\n",
       "      <td>70.200000</td>\n",
       "    </tr>\n",
       "    <tr>\n",
       "      <th>75%</th>\n",
       "      <td>1500.250000</td>\n",
       "      <td>86.000000</td>\n",
       "      <td>74.100000</td>\n",
       "    </tr>\n",
       "    <tr>\n",
       "      <th>max</th>\n",
       "      <td>2000.000000</td>\n",
       "      <td>347.000000</td>\n",
       "      <td>100.000000</td>\n",
       "    </tr>\n",
       "  </tbody>\n",
       "</table>\n",
       "</div>"
      ],
      "text/plain": [
       "        World Rank  National Rank        Score\n",
       "count  2000.000000    2000.000000  2000.000000\n",
       "mean   1000.500000      67.523000    71.586450\n",
       "std     577.494589      83.128615     5.079795\n",
       "min       1.000000       1.000000    65.700000\n",
       "25%     500.750000      10.000000    67.700000\n",
       "50%    1000.500000      33.000000    70.200000\n",
       "75%    1500.250000      86.000000    74.100000\n",
       "max    2000.000000     347.000000   100.000000"
      ]
     },
     "execution_count": 5,
     "metadata": {},
     "output_type": "execute_result"
    }
   ],
   "source": [
    "df.describe()"
   ]
  },
  {
   "cell_type": "markdown",
   "id": "a8a9c4db",
   "metadata": {},
   "source": [
    "## korelasi"
   ]
  },
  {
   "cell_type": "code",
   "execution_count": 6,
   "id": "06a6f989",
   "metadata": {},
   "outputs": [
    {
     "data": {
      "text/html": [
       "<div>\n",
       "<style scoped>\n",
       "    .dataframe tbody tr th:only-of-type {\n",
       "        vertical-align: middle;\n",
       "    }\n",
       "\n",
       "    .dataframe tbody tr th {\n",
       "        vertical-align: top;\n",
       "    }\n",
       "\n",
       "    .dataframe thead th {\n",
       "        text-align: right;\n",
       "    }\n",
       "</style>\n",
       "<table border=\"1\" class=\"dataframe\">\n",
       "  <thead>\n",
       "    <tr style=\"text-align: right;\">\n",
       "      <th></th>\n",
       "      <th>World Rank</th>\n",
       "      <th>National Rank</th>\n",
       "      <th>Score</th>\n",
       "    </tr>\n",
       "  </thead>\n",
       "  <tbody>\n",
       "    <tr>\n",
       "      <th>World Rank</th>\n",
       "      <td>1.00000</td>\n",
       "      <td>0.344200</td>\n",
       "      <td>-0.916950</td>\n",
       "    </tr>\n",
       "    <tr>\n",
       "      <th>National Rank</th>\n",
       "      <td>0.34420</td>\n",
       "      <td>1.000000</td>\n",
       "      <td>-0.329112</td>\n",
       "    </tr>\n",
       "    <tr>\n",
       "      <th>Score</th>\n",
       "      <td>-0.91695</td>\n",
       "      <td>-0.329112</td>\n",
       "      <td>1.000000</td>\n",
       "    </tr>\n",
       "  </tbody>\n",
       "</table>\n",
       "</div>"
      ],
      "text/plain": [
       "               World Rank  National Rank     Score\n",
       "World Rank        1.00000       0.344200 -0.916950\n",
       "National Rank     0.34420       1.000000 -0.329112\n",
       "Score            -0.91695      -0.329112  1.000000"
      ]
     },
     "execution_count": 6,
     "metadata": {},
     "output_type": "execute_result"
    }
   ],
   "source": [
    "df.corr()"
   ]
  },
  {
   "cell_type": "markdown",
   "id": "48b3c8eb",
   "metadata": {},
   "source": [
    "## Nilai Int Menjadi Float"
   ]
  },
  {
   "cell_type": "code",
   "execution_count": 7,
   "id": "fc4c3435",
   "metadata": {},
   "outputs": [
    {
     "data": {
      "text/html": [
       "<div>\n",
       "<style scoped>\n",
       "    .dataframe tbody tr th:only-of-type {\n",
       "        vertical-align: middle;\n",
       "    }\n",
       "\n",
       "    .dataframe tbody tr th {\n",
       "        vertical-align: top;\n",
       "    }\n",
       "\n",
       "    .dataframe thead th {\n",
       "        text-align: right;\n",
       "    }\n",
       "</style>\n",
       "<table border=\"1\" class=\"dataframe\">\n",
       "  <thead>\n",
       "    <tr style=\"text-align: right;\">\n",
       "      <th></th>\n",
       "      <th>World Rank</th>\n",
       "      <th>National Rank</th>\n",
       "    </tr>\n",
       "  </thead>\n",
       "  <tbody>\n",
       "    <tr>\n",
       "      <th>0</th>\n",
       "      <td>0.001</td>\n",
       "      <td>0.001</td>\n",
       "    </tr>\n",
       "    <tr>\n",
       "      <th>1</th>\n",
       "      <td>0.002</td>\n",
       "      <td>0.002</td>\n",
       "    </tr>\n",
       "    <tr>\n",
       "      <th>2</th>\n",
       "      <td>0.003</td>\n",
       "      <td>0.003</td>\n",
       "    </tr>\n",
       "    <tr>\n",
       "      <th>3</th>\n",
       "      <td>0.004</td>\n",
       "      <td>0.001</td>\n",
       "    </tr>\n",
       "    <tr>\n",
       "      <th>4</th>\n",
       "      <td>0.005</td>\n",
       "      <td>0.002</td>\n",
       "    </tr>\n",
       "    <tr>\n",
       "      <th>...</th>\n",
       "      <td>...</td>\n",
       "      <td>...</td>\n",
       "    </tr>\n",
       "    <tr>\n",
       "      <th>1995</th>\n",
       "      <td>1.996</td>\n",
       "      <td>0.056</td>\n",
       "    </tr>\n",
       "    <tr>\n",
       "      <th>1996</th>\n",
       "      <td>1.997</td>\n",
       "      <td>0.275</td>\n",
       "    </tr>\n",
       "    <tr>\n",
       "      <th>1997</th>\n",
       "      <td>1.998</td>\n",
       "      <td>0.276</td>\n",
       "    </tr>\n",
       "    <tr>\n",
       "      <th>1998</th>\n",
       "      <td>1.999</td>\n",
       "      <td>0.053</td>\n",
       "    </tr>\n",
       "    <tr>\n",
       "      <th>1999</th>\n",
       "      <td>2.000</td>\n",
       "      <td>0.277</td>\n",
       "    </tr>\n",
       "  </tbody>\n",
       "</table>\n",
       "<p>2000 rows × 2 columns</p>\n",
       "</div>"
      ],
      "text/plain": [
       "      World Rank  National Rank\n",
       "0          0.001          0.001\n",
       "1          0.002          0.002\n",
       "2          0.003          0.003\n",
       "3          0.004          0.001\n",
       "4          0.005          0.002\n",
       "...          ...            ...\n",
       "1995       1.996          0.056\n",
       "1996       1.997          0.275\n",
       "1997       1.998          0.276\n",
       "1998       1.999          0.053\n",
       "1999       2.000          0.277\n",
       "\n",
       "[2000 rows x 2 columns]"
      ]
     },
     "execution_count": 7,
     "metadata": {},
     "output_type": "execute_result"
    }
   ],
   "source": [
    "df.select_dtypes([\"int64\"])*0.001"
   ]
  },
  {
   "cell_type": "markdown",
   "id": "26a4ebc4",
   "metadata": {},
   "source": [
    "## Nilai Float Menjadi Int"
   ]
  },
  {
   "cell_type": "code",
   "execution_count": 8,
   "id": "42d786eb",
   "metadata": {},
   "outputs": [
    {
     "data": {
      "text/html": [
       "<div>\n",
       "<style scoped>\n",
       "    .dataframe tbody tr th:only-of-type {\n",
       "        vertical-align: middle;\n",
       "    }\n",
       "\n",
       "    .dataframe tbody tr th {\n",
       "        vertical-align: top;\n",
       "    }\n",
       "\n",
       "    .dataframe thead th {\n",
       "        text-align: right;\n",
       "    }\n",
       "</style>\n",
       "<table border=\"1\" class=\"dataframe\">\n",
       "  <thead>\n",
       "    <tr style=\"text-align: right;\">\n",
       "      <th></th>\n",
       "      <th>Score</th>\n",
       "    </tr>\n",
       "  </thead>\n",
       "  <tbody>\n",
       "    <tr>\n",
       "      <th>0</th>\n",
       "      <td>100000.0</td>\n",
       "    </tr>\n",
       "    <tr>\n",
       "      <th>1</th>\n",
       "      <td>96700.0</td>\n",
       "    </tr>\n",
       "    <tr>\n",
       "      <th>2</th>\n",
       "      <td>95100.0</td>\n",
       "    </tr>\n",
       "    <tr>\n",
       "      <th>3</th>\n",
       "      <td>94100.0</td>\n",
       "    </tr>\n",
       "    <tr>\n",
       "      <th>4</th>\n",
       "      <td>93300.0</td>\n",
       "    </tr>\n",
       "    <tr>\n",
       "      <th>...</th>\n",
       "      <td>...</td>\n",
       "    </tr>\n",
       "    <tr>\n",
       "      <th>1995</th>\n",
       "      <td>65800.0</td>\n",
       "    </tr>\n",
       "    <tr>\n",
       "      <th>1996</th>\n",
       "      <td>65700.0</td>\n",
       "    </tr>\n",
       "    <tr>\n",
       "      <th>1997</th>\n",
       "      <td>65700.0</td>\n",
       "    </tr>\n",
       "    <tr>\n",
       "      <th>1998</th>\n",
       "      <td>65700.0</td>\n",
       "    </tr>\n",
       "    <tr>\n",
       "      <th>1999</th>\n",
       "      <td>65700.0</td>\n",
       "    </tr>\n",
       "  </tbody>\n",
       "</table>\n",
       "<p>2000 rows × 1 columns</p>\n",
       "</div>"
      ],
      "text/plain": [
       "         Score\n",
       "0     100000.0\n",
       "1      96700.0\n",
       "2      95100.0\n",
       "3      94100.0\n",
       "4      93300.0\n",
       "...        ...\n",
       "1995   65800.0\n",
       "1996   65700.0\n",
       "1997   65700.0\n",
       "1998   65700.0\n",
       "1999   65700.0\n",
       "\n",
       "[2000 rows x 1 columns]"
      ]
     },
     "execution_count": 8,
     "metadata": {},
     "output_type": "execute_result"
    }
   ],
   "source": [
    "df.select_dtypes([\"float64\"])*1000"
   ]
  },
  {
   "cell_type": "markdown",
   "id": "2ca0c6bf",
   "metadata": {},
   "source": [
    "## 10 Record pertama attribute bertipe angka."
   ]
  },
  {
   "cell_type": "code",
   "execution_count": 9,
   "id": "29a7ac29",
   "metadata": {},
   "outputs": [
    {
     "data": {
      "text/html": [
       "<div>\n",
       "<style scoped>\n",
       "    .dataframe tbody tr th:only-of-type {\n",
       "        vertical-align: middle;\n",
       "    }\n",
       "\n",
       "    .dataframe tbody tr th {\n",
       "        vertical-align: top;\n",
       "    }\n",
       "\n",
       "    .dataframe thead th {\n",
       "        text-align: right;\n",
       "    }\n",
       "</style>\n",
       "<table border=\"1\" class=\"dataframe\">\n",
       "  <thead>\n",
       "    <tr style=\"text-align: right;\">\n",
       "      <th></th>\n",
       "      <th>World Rank</th>\n",
       "      <th>National Rank</th>\n",
       "      <th>Score</th>\n",
       "    </tr>\n",
       "  </thead>\n",
       "  <tbody>\n",
       "    <tr>\n",
       "      <th>0</th>\n",
       "      <td>1</td>\n",
       "      <td>1</td>\n",
       "      <td>100.0</td>\n",
       "    </tr>\n",
       "    <tr>\n",
       "      <th>1</th>\n",
       "      <td>2</td>\n",
       "      <td>2</td>\n",
       "      <td>96.7</td>\n",
       "    </tr>\n",
       "    <tr>\n",
       "      <th>2</th>\n",
       "      <td>3</td>\n",
       "      <td>3</td>\n",
       "      <td>95.1</td>\n",
       "    </tr>\n",
       "    <tr>\n",
       "      <th>3</th>\n",
       "      <td>4</td>\n",
       "      <td>1</td>\n",
       "      <td>94.1</td>\n",
       "    </tr>\n",
       "    <tr>\n",
       "      <th>4</th>\n",
       "      <td>5</td>\n",
       "      <td>2</td>\n",
       "      <td>93.3</td>\n",
       "    </tr>\n",
       "    <tr>\n",
       "      <th>5</th>\n",
       "      <td>6</td>\n",
       "      <td>4</td>\n",
       "      <td>92.6</td>\n",
       "    </tr>\n",
       "    <tr>\n",
       "      <th>6</th>\n",
       "      <td>7</td>\n",
       "      <td>5</td>\n",
       "      <td>92.0</td>\n",
       "    </tr>\n",
       "    <tr>\n",
       "      <th>7</th>\n",
       "      <td>8</td>\n",
       "      <td>6</td>\n",
       "      <td>91.5</td>\n",
       "    </tr>\n",
       "    <tr>\n",
       "      <th>8</th>\n",
       "      <td>9</td>\n",
       "      <td>7</td>\n",
       "      <td>91.1</td>\n",
       "    </tr>\n",
       "    <tr>\n",
       "      <th>9</th>\n",
       "      <td>10</td>\n",
       "      <td>8</td>\n",
       "      <td>90.7</td>\n",
       "    </tr>\n",
       "  </tbody>\n",
       "</table>\n",
       "</div>"
      ],
      "text/plain": [
       "   World Rank  National Rank  Score\n",
       "0           1              1  100.0\n",
       "1           2              2   96.7\n",
       "2           3              3   95.1\n",
       "3           4              1   94.1\n",
       "4           5              2   93.3\n",
       "5           6              4   92.6\n",
       "6           7              5   92.0\n",
       "7           8              6   91.5\n",
       "8           9              7   91.1\n",
       "9          10              8   90.7"
      ]
     },
     "execution_count": 9,
     "metadata": {},
     "output_type": "execute_result"
    }
   ],
   "source": [
    "Record_angka=df.select_dtypes([\"float64\",\"int64\"])\n",
    "Record_angka.head(10)"
   ]
  },
  {
   "cell_type": "markdown",
   "id": "da25fd9a",
   "metadata": {},
   "source": [
    "## Simpan dataset dengan attribute bertipe angka"
   ]
  },
  {
   "cell_type": "code",
   "execution_count": null,
   "id": "3bd9dd4b",
   "metadata": {},
   "outputs": [],
   "source": [
    "df.select_dtypes([\"float64\",\"int64\"]).to_csv(\"Angka.csv\")"
   ]
  }
 ],
 "metadata": {
  "kernelspec": {
   "display_name": "Python 3 (ipykernel)",
   "language": "python",
   "name": "python3"
  },
  "language_info": {
   "codemirror_mode": {
    "name": "ipython",
    "version": 3
   },
   "file_extension": ".py",
   "mimetype": "text/x-python",
   "name": "python",
   "nbconvert_exporter": "python",
   "pygments_lexer": "ipython3",
   "version": "3.10.7"
  }
 },
 "nbformat": 4,
 "nbformat_minor": 5
}
